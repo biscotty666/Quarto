{
  "cells": [
    {
      "cell_type": "markdown",
      "metadata": {},
      "source": [
        "---\n",
        "title: Quarto Example\n",
        "subtitle: Quarto crash course\n",
        "author: Brian Carey\n",
        "date: \"2025-26-25\"\n",
        "bibliography: references.bib\n",
        "---\n",
        "\n",
        "# Quarto Crash Course"
      ]
    },
    {
      "cell_type": "code",
      "metadata": {},
      "source": [
        "for i in range(10):\n",
        "    print(\"Jello World\")"
      ],
      "execution_count": null,
      "outputs": []
    },
    {
      "cell_type": "markdown",
      "metadata": {},
      "source": [
        "| Col1 | Col2 | Col3 |\n",
        "|------|------|------|\n",
        "| a    | b    | c    |\n",
        "| d    | e    | f    |\n",
        "| g    | h    | i    |\n",
        "\n",
        ": Table Example\n",
        "\n",
        "[@rapp_ultimate_2022]"
      ]
    }
  ],
  "metadata": {
    "kernelspec": {
      "name": "python3",
      "language": "python",
      "display_name": "Python 3 (ipykernel)",
      "path": "/nix/store/gd59ipgsc4j7pwx6ak080pilsprip66a-python3-3.13.4-env/share/jupyter/kernels/python3"
    }
  },
  "nbformat": 4,
  "nbformat_minor": 4
}